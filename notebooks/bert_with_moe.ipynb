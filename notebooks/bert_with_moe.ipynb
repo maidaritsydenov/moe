{
 "cells": [
  {
   "cell_type": "code",
   "execution_count": 1,
   "id": "90eea204-1571-49f9-9bed-a7bacd593a7d",
   "metadata": {},
   "outputs": [
    {
     "data": {
      "text/plain": [
       "['/home/maidari/miniconda3/envs/myenv311/lib/python3.11/site-packages']"
      ]
     },
     "execution_count": 1,
     "metadata": {},
     "output_type": "execute_result"
    }
   ],
   "source": [
    "import site\n",
    "\n",
    "site.getsitepackages()"
   ]
  },
  {
   "cell_type": "code",
   "execution_count": 2,
   "id": "513627ed-b61e-46ac-aeba-62b27ca45387",
   "metadata": {},
   "outputs": [],
   "source": [
    "from transformers.models.bert.modeling_bert import (\n",
    "    BertConfig,\n",
    "    BertPreTrainedModel,\n",
    "    BertAttention,\n",
    "    SequenceClassifierOutput,\n",
    "    BertForSequenceClassification,\n",
    "    BertModel,\n",
    "    BertEncoder,\n",
    "    BertEmbeddings,\n",
    "    BertPooler,\n",
    "    BertLayer\n",
    ")"
   ]
  },
  {
   "cell_type": "code",
   "execution_count": 3,
   "id": "2ec9b59a-4f49-48c6-b46a-4f64e8a53e63",
   "metadata": {},
   "outputs": [],
   "source": [
    "model_name = \"google-bert/bert-base-uncased\""
   ]
  },
  {
   "cell_type": "code",
   "execution_count": null,
   "id": "bebbc663-845b-4d23-93a4-18186c164f1d",
   "metadata": {},
   "outputs": [],
   "source": [
    "class BertMoEModel(BertModel):\n",
    "    def __init__(self, config, add_pooling_layer=True):\n",
    "        super(BertModel, self).__init__(config)\n",
    "        self.config = config\n",
    "        self.embeddings = BertEmbeddings(config)\n",
    "        self.encoder = BertMoEEncoder(config)  # Используем наш MoE-энкодер\n",
    "        self.pooler = BertPooler(config) if add_pooling_layer else None\n",
    "        self.init_weights()"
   ]
  },
  {
   "cell_type": "code",
   "execution_count": 4,
   "id": "b8a593df-cdea-42e2-9669-77dad40c397c",
   "metadata": {},
   "outputs": [],
   "source": [
    "class BertMoEForSequenceClassification(BertForSequenceClassification):\n",
    "    def __init__(self, config):\n",
    "        super(BertForSequenceClassification, self).__init__(config)\n",
    "        self.num_labels = config.num_labels\n",
    "        self.bert = BertMoEModel(config)\n",
    "        self.dropout = nn.Dropout(config.hidden_dropout_prob)\n",
    "        self.classifier = nn.Linear(config.hidden_size, config.num_labels)\n",
    "        self.init_weights()\n",
    "\n",
    "    def forward(\n",
    "        self,\n",
    "        input_ids=None,\n",
    "        attention_mask=None,\n",
    "        token_type_ids=None,\n",
    "        position_ids=None,\n",
    "        head_mask=None,\n",
    "        inputs_embeds=None,\n",
    "        labels=None,\n",
    "        output_attentions=None,\n",
    "        output_hidden_states=None,\n",
    "        return_dict=None,\n",
    "    ):\n",
    "        return_dict = return_dict if return_dict is not None else self.config.use_return_dict\n",
    "        \n",
    "        # Пропускаем через модель\n",
    "        outputs = self.bert(\n",
    "            input_ids,\n",
    "            attention_mask=attention_mask,\n",
    "            token_type_ids=token_type_ids,\n",
    "            position_ids=position_ids,\n",
    "            head_mask=head_mask,\n",
    "            inputs_embeds=inputs_embeds,\n",
    "            output_attentions=output_attentions,\n",
    "            output_hidden_states=output_hidden_states,\n",
    "            return_dict=return_dict,\n",
    "        )\n",
    "        pooled_output = outputs[1]\n",
    "        pooled_output = self.dropout(pooled_output)\n",
    "        logits = self.classifier(pooled_output)\n",
    "\n",
    "        # Рассчитываем основной loss\n",
    "        loss = None\n",
    "        if labels is not None:\n",
    "            if self.num_labels == 1:\n",
    "                loss_fct = MSELoss()\n",
    "                loss = loss_fct(logits.view(-1), labels.view(-1))\n",
    "            else:\n",
    "                loss_fct = CrossEntropyLoss()\n",
    "                loss = loss_fct(logits.view(-1, self.num_labels), labels.view(-1))\n",
    "        \n",
    "        # Добавляем вспомогательный loss от MoE\n",
    "        aux_loss = 0.0\n",
    "        if self.training:\n",
    "            for layer in self.bert.encoder.layer:\n",
    "                aux_loss += layer.moe.aux_loss\n",
    "            if loss is not None:\n",
    "                loss += aux_loss\n",
    "\n",
    "        # Формируем вывод\n",
    "        if not return_dict:\n",
    "            output = (logits,) + outputs[2:]\n",
    "            return ((loss,) + output) if loss is not None else output\n",
    "        \n",
    "        return SequenceClassifierOutput(\n",
    "            loss=loss,\n",
    "            logits=logits,\n",
    "            hidden_states=outputs.hidden_states,\n",
    "            attentions=outputs.attentions,\n",
    "        )"
   ]
  },
  {
   "cell_type": "code",
   "execution_count": null,
   "id": "fd4efe50-e463-4043-bae8-4910e2daac0f",
   "metadata": {},
   "outputs": [],
   "source": [
    "config = BertConfig.from_pretrained(model_name)\n",
    "config.moe_num_experts = 4\n",
    "config.moe_top_k = 1\n",
    "config.moe_aux_loss_coef = 0.1\n",
    "\n",
    "model = BertMoEForSequenceClassification(config)"
   ]
  }
 ],
 "metadata": {
  "kernelspec": {
   "display_name": "myenv311",
   "language": "python",
   "name": "myenv311"
  },
  "language_info": {
   "codemirror_mode": {
    "name": "ipython",
    "version": 3
   },
   "file_extension": ".py",
   "mimetype": "text/x-python",
   "name": "python",
   "nbconvert_exporter": "python",
   "pygments_lexer": "ipython3",
   "version": "3.11.11"
  }
 },
 "nbformat": 4,
 "nbformat_minor": 5
}
