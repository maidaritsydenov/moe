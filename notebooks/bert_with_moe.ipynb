{
 "cells": [
  {
   "cell_type": "code",
   "execution_count": 1,
   "id": "066686d1-f94a-47db-a0b5-deb1bf775ce2",
   "metadata": {},
   "outputs": [],
   "source": [
    "%reload_ext autoreload\n",
    "%autoreload 2"
   ]
  },
  {
   "cell_type": "markdown",
   "id": "d376d45d-f516-4971-a6da-8c0cec32bddd",
   "metadata": {},
   "source": [
    "## Imports"
   ]
  },
  {
   "cell_type": "code",
   "execution_count": 2,
   "id": "90eea204-1571-49f9-9bed-a7bacd593a7d",
   "metadata": {},
   "outputs": [
    {
     "data": {
      "text/plain": [
       "['/home/maidari/miniconda3/envs/myenv311/lib/python3.11/site-packages']"
      ]
     },
     "execution_count": 2,
     "metadata": {},
     "output_type": "execute_result"
    }
   ],
   "source": [
    "import site\n",
    "\n",
    "site.getsitepackages()"
   ]
  },
  {
   "cell_type": "code",
   "execution_count": 3,
   "id": "d56ea60e-99fc-442d-88ec-886d7fde72cf",
   "metadata": {},
   "outputs": [
    {
     "name": "stdout",
     "output_type": "stream",
     "text": [
      "4.51.2\n"
     ]
    }
   ],
   "source": [
    "import transformers\n",
    "print(transformers.__version__)"
   ]
  },
  {
   "cell_type": "code",
   "execution_count": 4,
   "id": "513627ed-b61e-46ac-aeba-62b27ca45387",
   "metadata": {},
   "outputs": [],
   "source": [
    "from tqdm.auto import tqdm\n",
    "import pandas as pd\n",
    "import numpy as np\n",
    "from sklearn.model_selection import train_test_split\n",
    "from sklearn.metrics import classification_report\n",
    "\n",
    "import torch\n",
    "import torch.nn as nn\n",
    "from torch.optim import AdamW\n",
    "from torch.utils.data import Dataset, DataLoader\n",
    "\n",
    "from transformers import AutoTokenizer, BertForSequenceClassification"
   ]
  },
  {
   "cell_type": "markdown",
   "id": "480ce101-8510-4298-9fdf-59b390baa88c",
   "metadata": {},
   "source": [
    "## Load BERT with MOE"
   ]
  },
  {
   "cell_type": "code",
   "execution_count": 5,
   "id": "13009877-59d5-45a8-902b-2326cb3e769c",
   "metadata": {},
   "outputs": [],
   "source": [
    "from moe.models.bert.modeling_bert_with_moe import BertMoEForSequenceClassification\n",
    "from transformers.models.bert.modeling_bert import BertConfig"
   ]
  },
  {
   "cell_type": "code",
   "execution_count": 18,
   "id": "07960f18-c55b-424f-b41c-8c10a92fdfe9",
   "metadata": {},
   "outputs": [],
   "source": [
    "model_name = \"google-bert/bert-base-uncased\"\n",
    "\n",
    "from_pretrained = True"
   ]
  },
  {
   "cell_type": "code",
   "execution_count": 29,
   "id": "fd4efe50-e463-4043-bae8-4910e2daac0f",
   "metadata": {},
   "outputs": [
    {
     "name": "stderr",
     "output_type": "stream",
     "text": [
      "Some weights of BertMoEForSequenceClassification were not initialized from the model checkpoint at google-bert/bert-base-uncased and are newly initialized: ['bert.encoder.layer.0.moe.experts.0.dense.bias', 'bert.encoder.layer.0.moe.experts.0.dense.weight', 'bert.encoder.layer.0.moe.experts.1.dense.bias', 'bert.encoder.layer.0.moe.experts.1.dense.weight', 'bert.encoder.layer.0.moe.experts.2.dense.bias', 'bert.encoder.layer.0.moe.experts.2.dense.weight', 'bert.encoder.layer.0.moe.experts.3.dense.bias', 'bert.encoder.layer.0.moe.experts.3.dense.weight', 'bert.encoder.layer.0.moe.output.LayerNorm.bias', 'bert.encoder.layer.0.moe.output.LayerNorm.weight', 'bert.encoder.layer.0.moe.output.dense.bias', 'bert.encoder.layer.0.moe.output.dense.weight', 'bert.encoder.layer.0.moe.router.weight', 'bert.encoder.layer.1.moe.experts.0.dense.bias', 'bert.encoder.layer.1.moe.experts.0.dense.weight', 'bert.encoder.layer.1.moe.experts.1.dense.bias', 'bert.encoder.layer.1.moe.experts.1.dense.weight', 'bert.encoder.layer.1.moe.experts.2.dense.bias', 'bert.encoder.layer.1.moe.experts.2.dense.weight', 'bert.encoder.layer.1.moe.experts.3.dense.bias', 'bert.encoder.layer.1.moe.experts.3.dense.weight', 'bert.encoder.layer.1.moe.output.LayerNorm.bias', 'bert.encoder.layer.1.moe.output.LayerNorm.weight', 'bert.encoder.layer.1.moe.output.dense.bias', 'bert.encoder.layer.1.moe.output.dense.weight', 'bert.encoder.layer.1.moe.router.weight', 'bert.encoder.layer.10.moe.experts.0.dense.bias', 'bert.encoder.layer.10.moe.experts.0.dense.weight', 'bert.encoder.layer.10.moe.experts.1.dense.bias', 'bert.encoder.layer.10.moe.experts.1.dense.weight', 'bert.encoder.layer.10.moe.experts.2.dense.bias', 'bert.encoder.layer.10.moe.experts.2.dense.weight', 'bert.encoder.layer.10.moe.experts.3.dense.bias', 'bert.encoder.layer.10.moe.experts.3.dense.weight', 'bert.encoder.layer.10.moe.output.LayerNorm.bias', 'bert.encoder.layer.10.moe.output.LayerNorm.weight', 'bert.encoder.layer.10.moe.output.dense.bias', 'bert.encoder.layer.10.moe.output.dense.weight', 'bert.encoder.layer.10.moe.router.weight', 'bert.encoder.layer.11.moe.experts.0.dense.bias', 'bert.encoder.layer.11.moe.experts.0.dense.weight', 'bert.encoder.layer.11.moe.experts.1.dense.bias', 'bert.encoder.layer.11.moe.experts.1.dense.weight', 'bert.encoder.layer.11.moe.experts.2.dense.bias', 'bert.encoder.layer.11.moe.experts.2.dense.weight', 'bert.encoder.layer.11.moe.experts.3.dense.bias', 'bert.encoder.layer.11.moe.experts.3.dense.weight', 'bert.encoder.layer.11.moe.output.LayerNorm.bias', 'bert.encoder.layer.11.moe.output.LayerNorm.weight', 'bert.encoder.layer.11.moe.output.dense.bias', 'bert.encoder.layer.11.moe.output.dense.weight', 'bert.encoder.layer.11.moe.router.weight', 'bert.encoder.layer.2.moe.experts.0.dense.bias', 'bert.encoder.layer.2.moe.experts.0.dense.weight', 'bert.encoder.layer.2.moe.experts.1.dense.bias', 'bert.encoder.layer.2.moe.experts.1.dense.weight', 'bert.encoder.layer.2.moe.experts.2.dense.bias', 'bert.encoder.layer.2.moe.experts.2.dense.weight', 'bert.encoder.layer.2.moe.experts.3.dense.bias', 'bert.encoder.layer.2.moe.experts.3.dense.weight', 'bert.encoder.layer.2.moe.output.LayerNorm.bias', 'bert.encoder.layer.2.moe.output.LayerNorm.weight', 'bert.encoder.layer.2.moe.output.dense.bias', 'bert.encoder.layer.2.moe.output.dense.weight', 'bert.encoder.layer.2.moe.router.weight', 'bert.encoder.layer.3.moe.experts.0.dense.bias', 'bert.encoder.layer.3.moe.experts.0.dense.weight', 'bert.encoder.layer.3.moe.experts.1.dense.bias', 'bert.encoder.layer.3.moe.experts.1.dense.weight', 'bert.encoder.layer.3.moe.experts.2.dense.bias', 'bert.encoder.layer.3.moe.experts.2.dense.weight', 'bert.encoder.layer.3.moe.experts.3.dense.bias', 'bert.encoder.layer.3.moe.experts.3.dense.weight', 'bert.encoder.layer.3.moe.output.LayerNorm.bias', 'bert.encoder.layer.3.moe.output.LayerNorm.weight', 'bert.encoder.layer.3.moe.output.dense.bias', 'bert.encoder.layer.3.moe.output.dense.weight', 'bert.encoder.layer.3.moe.router.weight', 'bert.encoder.layer.4.moe.experts.0.dense.bias', 'bert.encoder.layer.4.moe.experts.0.dense.weight', 'bert.encoder.layer.4.moe.experts.1.dense.bias', 'bert.encoder.layer.4.moe.experts.1.dense.weight', 'bert.encoder.layer.4.moe.experts.2.dense.bias', 'bert.encoder.layer.4.moe.experts.2.dense.weight', 'bert.encoder.layer.4.moe.experts.3.dense.bias', 'bert.encoder.layer.4.moe.experts.3.dense.weight', 'bert.encoder.layer.4.moe.output.LayerNorm.bias', 'bert.encoder.layer.4.moe.output.LayerNorm.weight', 'bert.encoder.layer.4.moe.output.dense.bias', 'bert.encoder.layer.4.moe.output.dense.weight', 'bert.encoder.layer.4.moe.router.weight', 'bert.encoder.layer.5.moe.experts.0.dense.bias', 'bert.encoder.layer.5.moe.experts.0.dense.weight', 'bert.encoder.layer.5.moe.experts.1.dense.bias', 'bert.encoder.layer.5.moe.experts.1.dense.weight', 'bert.encoder.layer.5.moe.experts.2.dense.bias', 'bert.encoder.layer.5.moe.experts.2.dense.weight', 'bert.encoder.layer.5.moe.experts.3.dense.bias', 'bert.encoder.layer.5.moe.experts.3.dense.weight', 'bert.encoder.layer.5.moe.output.LayerNorm.bias', 'bert.encoder.layer.5.moe.output.LayerNorm.weight', 'bert.encoder.layer.5.moe.output.dense.bias', 'bert.encoder.layer.5.moe.output.dense.weight', 'bert.encoder.layer.5.moe.router.weight', 'bert.encoder.layer.6.moe.experts.0.dense.bias', 'bert.encoder.layer.6.moe.experts.0.dense.weight', 'bert.encoder.layer.6.moe.experts.1.dense.bias', 'bert.encoder.layer.6.moe.experts.1.dense.weight', 'bert.encoder.layer.6.moe.experts.2.dense.bias', 'bert.encoder.layer.6.moe.experts.2.dense.weight', 'bert.encoder.layer.6.moe.experts.3.dense.bias', 'bert.encoder.layer.6.moe.experts.3.dense.weight', 'bert.encoder.layer.6.moe.output.LayerNorm.bias', 'bert.encoder.layer.6.moe.output.LayerNorm.weight', 'bert.encoder.layer.6.moe.output.dense.bias', 'bert.encoder.layer.6.moe.output.dense.weight', 'bert.encoder.layer.6.moe.router.weight', 'bert.encoder.layer.7.moe.experts.0.dense.bias', 'bert.encoder.layer.7.moe.experts.0.dense.weight', 'bert.encoder.layer.7.moe.experts.1.dense.bias', 'bert.encoder.layer.7.moe.experts.1.dense.weight', 'bert.encoder.layer.7.moe.experts.2.dense.bias', 'bert.encoder.layer.7.moe.experts.2.dense.weight', 'bert.encoder.layer.7.moe.experts.3.dense.bias', 'bert.encoder.layer.7.moe.experts.3.dense.weight', 'bert.encoder.layer.7.moe.output.LayerNorm.bias', 'bert.encoder.layer.7.moe.output.LayerNorm.weight', 'bert.encoder.layer.7.moe.output.dense.bias', 'bert.encoder.layer.7.moe.output.dense.weight', 'bert.encoder.layer.7.moe.router.weight', 'bert.encoder.layer.8.moe.experts.0.dense.bias', 'bert.encoder.layer.8.moe.experts.0.dense.weight', 'bert.encoder.layer.8.moe.experts.1.dense.bias', 'bert.encoder.layer.8.moe.experts.1.dense.weight', 'bert.encoder.layer.8.moe.experts.2.dense.bias', 'bert.encoder.layer.8.moe.experts.2.dense.weight', 'bert.encoder.layer.8.moe.experts.3.dense.bias', 'bert.encoder.layer.8.moe.experts.3.dense.weight', 'bert.encoder.layer.8.moe.output.LayerNorm.bias', 'bert.encoder.layer.8.moe.output.LayerNorm.weight', 'bert.encoder.layer.8.moe.output.dense.bias', 'bert.encoder.layer.8.moe.output.dense.weight', 'bert.encoder.layer.8.moe.router.weight', 'bert.encoder.layer.9.moe.experts.0.dense.bias', 'bert.encoder.layer.9.moe.experts.0.dense.weight', 'bert.encoder.layer.9.moe.experts.1.dense.bias', 'bert.encoder.layer.9.moe.experts.1.dense.weight', 'bert.encoder.layer.9.moe.experts.2.dense.bias', 'bert.encoder.layer.9.moe.experts.2.dense.weight', 'bert.encoder.layer.9.moe.experts.3.dense.bias', 'bert.encoder.layer.9.moe.experts.3.dense.weight', 'bert.encoder.layer.9.moe.output.LayerNorm.bias', 'bert.encoder.layer.9.moe.output.LayerNorm.weight', 'bert.encoder.layer.9.moe.output.dense.bias', 'bert.encoder.layer.9.moe.output.dense.weight', 'bert.encoder.layer.9.moe.router.weight', 'classifier.bias', 'classifier.weight']\n",
      "You should probably TRAIN this model on a down-stream task to be able to use it for predictions and inference.\n"
     ]
    }
   ],
   "source": [
    "config = BertConfig.from_pretrained(model_name)\n",
    "config.moe_num_experts = 4\n",
    "config.moe_top_k = 1\n",
    "config.moe_aux_loss_coef = 0.1\n",
    "config.num_labels = 5\n",
    "\n",
    "tokenizer = AutoTokenizer.from_pretrained(model_name)\n",
    "\n",
    "\n",
    "if from_pretrained:\n",
    "\n",
    "    ## Копирование весов с предобученной модели вручную\n",
    "    # base_model = BertForSequenceClassification.from_pretrained(model_name, config=config)\n",
    "    # model = BertMoEForSequenceClassification(config)\n",
    "    # # 3.1. Эмбеддинги\n",
    "    # model.bert.embeddings.load_state_dict(base_model.bert.embeddings.state_dict())\n",
    "    \n",
    "    # # 3.2. 12 слоёв encoder’а\n",
    "    # for i, base_layer in enumerate(base_model.bert.encoder.layer):\n",
    "    #     moe_layer = model.bert.encoder.layer[i]\n",
    "    #     # attention\n",
    "    #     moe_layer.attention.self.load_state_dict(    base_layer.attention.self.state_dict()    )\n",
    "    #     moe_layer.attention.output.load_state_dict(  base_layer.attention.output.state_dict()  )\n",
    "    \n",
    "    # # 3.3. Pooler\n",
    "    # model.bert.pooler.load_state_dict(base_model.bert.pooler.state_dict())\n",
    "    \n",
    "    # # 3.4. Классификатор\n",
    "    # model.classifier.load_state_dict(base_model.classifier.state_dict())\n",
    "    \n",
    "    ## Копирование весов с предобученной модели через from_pretrained\n",
    "    model = BertMoEForSequenceClassification.from_pretrained(model_name, config=config)\n",
    "\n",
    "else:\n",
    "    model = BertMoEForSequenceClassification(config)"
   ]
  },
  {
   "cell_type": "code",
   "execution_count": 30,
   "id": "be9edad3-19af-48e8-87bd-0fec72d54824",
   "metadata": {},
   "outputs": [
    {
     "data": {
      "text/plain": [
       "'eager'"
      ]
     },
     "execution_count": 30,
     "metadata": {},
     "output_type": "execute_result"
    }
   ],
   "source": [
    "config._attn_implementation"
   ]
  },
  {
   "cell_type": "code",
   "execution_count": 31,
   "id": "0c9abebe-351c-44ea-8281-e3ab2dfdb430",
   "metadata": {},
   "outputs": [
    {
     "data": {
      "text/plain": [
       "BertMoEForSequenceClassification(\n",
       "  (bert): BertMoEModel(\n",
       "    (embeddings): BertEmbeddings(\n",
       "      (word_embeddings): Embedding(30522, 768, padding_idx=0)\n",
       "      (position_embeddings): Embedding(512, 768)\n",
       "      (token_type_embeddings): Embedding(2, 768)\n",
       "      (LayerNorm): LayerNorm((768,), eps=1e-12, elementwise_affine=True)\n",
       "      (dropout): Dropout(p=0.1, inplace=False)\n",
       "    )\n",
       "    (encoder): BertMoEEncoder(\n",
       "      (layer): ModuleList(\n",
       "        (0-11): 12 x BertLayerWithMoE(\n",
       "          (attention): BertAttention(\n",
       "            (self): BertSdpaSelfAttention(\n",
       "              (query): Linear(in_features=768, out_features=768, bias=True)\n",
       "              (key): Linear(in_features=768, out_features=768, bias=True)\n",
       "              (value): Linear(in_features=768, out_features=768, bias=True)\n",
       "              (dropout): Dropout(p=0.1, inplace=False)\n",
       "            )\n",
       "            (output): BertSelfOutput(\n",
       "              (dense): Linear(in_features=768, out_features=768, bias=True)\n",
       "              (LayerNorm): LayerNorm((768,), eps=1e-12, elementwise_affine=True)\n",
       "              (dropout): Dropout(p=0.1, inplace=False)\n",
       "            )\n",
       "          )\n",
       "          (moe): MoE(\n",
       "            (experts): ModuleList(\n",
       "              (0-3): 4 x BertIntermediate(\n",
       "                (dense): Linear(in_features=768, out_features=3072, bias=True)\n",
       "                (intermediate_act_fn): GELUActivation()\n",
       "              )\n",
       "            )\n",
       "            (output): BertOutput(\n",
       "              (dense): Linear(in_features=3072, out_features=768, bias=True)\n",
       "              (LayerNorm): LayerNorm((768,), eps=1e-12, elementwise_affine=True)\n",
       "              (dropout): Dropout(p=0.1, inplace=False)\n",
       "            )\n",
       "            (router): Linear(in_features=768, out_features=4, bias=False)\n",
       "          )\n",
       "        )\n",
       "      )\n",
       "    )\n",
       "    (pooler): BertPooler(\n",
       "      (dense): Linear(in_features=768, out_features=768, bias=True)\n",
       "      (activation): Tanh()\n",
       "    )\n",
       "  )\n",
       "  (dropout): Dropout(p=0.1, inplace=False)\n",
       "  (classifier): Linear(in_features=768, out_features=5, bias=True)\n",
       ")"
      ]
     },
     "execution_count": 31,
     "metadata": {},
     "output_type": "execute_result"
    }
   ],
   "source": [
    "model"
   ]
  },
  {
   "cell_type": "markdown",
   "id": "1cb2761e-4d27-498a-a567-1e8c65f4112f",
   "metadata": {},
   "source": [
    "## Load Dataset"
   ]
  },
  {
   "cell_type": "code",
   "execution_count": 32,
   "id": "49fc006a-9d02-44c7-b60f-6deeb15fe35f",
   "metadata": {},
   "outputs": [],
   "source": [
    "MAX_LENGTH = 128\n",
    "BATCH_SIZE = 16\n",
    "EPOCHS = 2\n",
    "LEARNING_RATE = 2e-5\n",
    "NUM_CLASSES = 5  # 5 классов: Politics 0, Sport 1, Technology 2, Entertainment 3, Business 4"
   ]
  },
  {
   "cell_type": "code",
   "execution_count": 33,
   "id": "5acd476b-9b03-4ac9-a010-ba4110638540",
   "metadata": {},
   "outputs": [
    {
     "name": "stdout",
     "output_type": "stream",
     "text": [
      "(1780, 2) (445, 2)\n"
     ]
    }
   ],
   "source": [
    "df = pd.read_csv(\"../dataset/df_file.csv\")\n",
    "df.columns = [\"text\", \"label\"]\n",
    "\n",
    "train_df, test_df = train_test_split(df, test_size=0.2, random_state=42, stratify=df['label'])\n",
    "print(train_df.shape, test_df.shape)"
   ]
  },
  {
   "cell_type": "code",
   "execution_count": 34,
   "id": "5ee952bf-f23d-4cbf-8e3c-4ed787f559bf",
   "metadata": {},
   "outputs": [],
   "source": [
    "class TextDataset(Dataset):\n",
    "    def __init__(self, texts, labels, tokenizer, max_length):\n",
    "        self.texts = texts\n",
    "        self.labels = labels\n",
    "        self.tokenizer = tokenizer\n",
    "        self.max_length = max_length\n",
    "        \n",
    "    def __len__(self):\n",
    "        return len(self.texts)\n",
    "    \n",
    "    def __getitem__(self, idx):\n",
    "        text = str(self.texts[idx])\n",
    "        label = self.labels[idx]\n",
    "        \n",
    "        encoding = self.tokenizer(\n",
    "            text,\n",
    "            max_length=self.max_length,\n",
    "            padding='max_length',\n",
    "            truncation=True,\n",
    "            return_tensors='pt'\n",
    "        )\n",
    "        \n",
    "        return {\n",
    "            'input_ids': encoding['input_ids'].flatten(),\n",
    "            'attention_mask': encoding['attention_mask'].flatten(),\n",
    "            'label': torch.tensor(label, dtype=torch.long)\n",
    "        }\n",
    "\n",
    "train_dataset = TextDataset(\n",
    "    train_df['text'].values,\n",
    "    train_df['label'].values,\n",
    "    tokenizer,\n",
    "    MAX_LENGTH\n",
    ")\n",
    "\n",
    "test_dataset = TextDataset(\n",
    "    test_df['text'].values,\n",
    "    test_df['label'].values,\n",
    "    tokenizer,\n",
    "    MAX_LENGTH\n",
    ")\n",
    "\n",
    "train_loader = DataLoader(train_dataset, batch_size=BATCH_SIZE, shuffle=True)\n",
    "test_loader = DataLoader(test_dataset, batch_size=BATCH_SIZE)"
   ]
  },
  {
   "cell_type": "markdown",
   "id": "cb40b295-7e4a-44da-8b9a-730849c970d5",
   "metadata": {},
   "source": [
    "## Training with random init weights"
   ]
  },
  {
   "cell_type": "code",
   "execution_count": 35,
   "id": "14c4e117-62c9-452f-abd7-0d64d561fd31",
   "metadata": {},
   "outputs": [],
   "source": [
    "optimizer = AdamW(model.parameters(), lr=LEARNING_RATE)\n",
    "loss_fn = nn.CrossEntropyLoss()"
   ]
  },
  {
   "cell_type": "code",
   "execution_count": 36,
   "id": "c75cf40f-b479-493b-95f7-4551af8075f0",
   "metadata": {},
   "outputs": [],
   "source": [
    "device = torch.device(\"cuda\" if torch.cuda.is_available() else \"cpu\")\n",
    "model = model.to(device)"
   ]
  },
  {
   "cell_type": "code",
   "execution_count": 37,
   "id": "03c8a57c-83ff-4902-91d5-2b3c1161fe83",
   "metadata": {},
   "outputs": [
    {
     "data": {
      "application/vnd.jupyter.widget-view+json": {
       "model_id": "24def077c08245e6893bb66bc1e37ea3",
       "version_major": 2,
       "version_minor": 0
      },
      "text/plain": [
       "  0%|          | 0/112 [00:00<?, ?it/s]"
      ]
     },
     "metadata": {},
     "output_type": "display_data"
    },
    {
     "name": "stdout",
     "output_type": "stream",
     "text": [
      "Epoch 1/2, Train Loss: 1.6280\n"
     ]
    },
    {
     "data": {
      "application/vnd.jupyter.widget-view+json": {
       "model_id": "80df61755e8c45078ae86f5dedaaa9e8",
       "version_major": 2,
       "version_minor": 0
      },
      "text/plain": [
       "  0%|          | 0/112 [00:00<?, ?it/s]"
      ]
     },
     "metadata": {},
     "output_type": "display_data"
    },
    {
     "name": "stdout",
     "output_type": "stream",
     "text": [
      "Epoch 2/2, Train Loss: 1.1094\n"
     ]
    }
   ],
   "source": [
    "for epoch in range(EPOCHS):\n",
    "    model.train()\n",
    "    total_loss = 0\n",
    "    \n",
    "    for batch in tqdm(train_loader):\n",
    "        optimizer.zero_grad()\n",
    "        \n",
    "        input_ids = batch['input_ids'].to(device)\n",
    "        attention_mask = batch['attention_mask'].to(device)\n",
    "        labels = batch['label'].to(device)\n",
    "        \n",
    "        outputs = model(input_ids, attention_mask, labels=labels)\n",
    "        loss = outputs.loss\n",
    "        \n",
    "        loss.backward()\n",
    "        optimizer.step()\n",
    "        \n",
    "        total_loss += loss.item()\n",
    "    \n",
    "    avg_train_loss = total_loss / len(train_loader)\n",
    "    print(f\"Epoch {epoch + 1}/{EPOCHS}, Train Loss: {avg_train_loss:.4f}\")"
   ]
  },
  {
   "cell_type": "code",
   "execution_count": 28,
   "id": "7c1270ca-1cd3-4d9b-b3f3-c03d70995d15",
   "metadata": {},
   "outputs": [
    {
     "data": {
      "application/vnd.jupyter.widget-view+json": {
       "model_id": "19b7f626dc584fa3bd62617bfaf02c35",
       "version_major": 2,
       "version_minor": 0
      },
      "text/plain": [
       "  0%|          | 0/28 [00:00<?, ?it/s]"
      ]
     },
     "metadata": {},
     "output_type": "display_data"
    },
    {
     "name": "stdout",
     "output_type": "stream",
     "text": [
      "               precision    recall  f1-score   support\n",
      "\n",
      "     Politics       0.91      0.92      0.91        84\n",
      "        Sport       0.96      0.95      0.96       102\n",
      "   Technology       0.78      0.95      0.85        80\n",
      "Entertainment       0.96      0.87      0.91        77\n",
      "     Business       0.90      0.80      0.85       102\n",
      "\n",
      "     accuracy                           0.90       445\n",
      "    macro avg       0.90      0.90      0.90       445\n",
      " weighted avg       0.90      0.90      0.90       445\n",
      "\n"
     ]
    }
   ],
   "source": [
    "model.eval()\n",
    "predictions = []\n",
    "true_labels = []\n",
    "\n",
    "with torch.no_grad():\n",
    "    for batch in tqdm(test_loader):\n",
    "        input_ids = batch['input_ids'].to(device)\n",
    "        attention_mask = batch['attention_mask'].to(device)\n",
    "        labels = batch['label'].to(device)\n",
    "        \n",
    "        outputs = model(input_ids, attention_mask)\n",
    "        logits = outputs.logits\n",
    "        _, preds = torch.max(logits, dim=1)\n",
    "        \n",
    "        predictions.extend(preds.cpu().numpy())\n",
    "        true_labels.extend(labels.cpu().numpy())\n",
    "\n",
    "print(classification_report(\n",
    "    true_labels,\n",
    "    predictions,\n",
    "    target_names=['Politics', 'Sport', 'Technology', 'Entertainment', 'Business']\n",
    "))"
   ]
  },
  {
   "cell_type": "markdown",
   "id": "175171f5-4631-4022-9f89-d3d914b1fcfa",
   "metadata": {},
   "source": [
    "with random init weights\n",
    "\n",
    "               precision    recall  f1-score   support\n",
    "\n",
    "     Politics       0.97      0.77      0.86        84\n",
    "     Sport          0.94      0.98      0.96       102\n",
    "     Technology     0.77      0.91      0.83        80\n",
    "     Entertainment  0.81      0.86      0.84        77\n",
    "     Business       0.94      0.88      0.91       102\n",
    "\n",
    "     accuracy                           0.89       445\n",
    "     macro avg      0.89      0.88      0.88       445\n",
    "     weighted avg   0.89      0.89      0.89       445"
   ]
  }
 ],
 "metadata": {
  "kernelspec": {
   "display_name": "myenv311",
   "language": "python",
   "name": "myenv311"
  },
  "language_info": {
   "codemirror_mode": {
    "name": "ipython",
    "version": 3
   },
   "file_extension": ".py",
   "mimetype": "text/x-python",
   "name": "python",
   "nbconvert_exporter": "python",
   "pygments_lexer": "ipython3",
   "version": "3.11.11"
  }
 },
 "nbformat": 4,
 "nbformat_minor": 5
}
